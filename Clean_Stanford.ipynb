{
  "nbformat": 4,
  "nbformat_minor": 0,
  "metadata": {
    "colab": {
      "name": "Clean_Stanford.ipynb",
      "provenance": [],
      "include_colab_link": true
    },
    "kernelspec": {
      "name": "python3",
      "display_name": "Python 3"
    },
    "language_info": {
      "name": "python"
    }
  },
  "cells": [
    {
      "cell_type": "markdown",
      "metadata": {
        "id": "view-in-github",
        "colab_type": "text"
      },
      "source": [
        "<a href=\"https://colab.research.google.com/github/jrahemtulla/TeamSolar/blob/main/Clean_Stanford.ipynb\" target=\"_parent\"><img src=\"https://colab.research.google.com/assets/colab-badge.svg\" alt=\"Open In Colab\"/></a>"
      ]
    },
    {
      "cell_type": "code",
      "execution_count": null,
      "metadata": {
        "id": "BifljJnF_T6D"
      },
      "outputs": [],
      "source": [
        "import pandas as pd\n",
        "import numpy as np\n",
        "import matplotlib.pyplot as plt"
      ]
    },
    {
      "cell_type": "code",
      "source": [
        "from google.colab import drive\n",
        "drive.mount('/content/drive')"
      ],
      "metadata": {
        "colab": {
          "base_uri": "https://localhost:8080/"
        },
        "id": "WteXt6Tx_YWd",
        "outputId": "8a01e9bc-3359-4d38-d072-c93047a0e331"
      },
      "execution_count": null,
      "outputs": [
        {
          "output_type": "stream",
          "name": "stdout",
          "text": [
            "Mounted at /content/drive\n"
          ]
        }
      ]
    },
    {
      "cell_type": "markdown",
      "source": [
        "# New Section"
      ],
      "metadata": {
        "id": "adPth_TvJJz6"
      }
    },
    {
      "cell_type": "code",
      "source": [
        "#read data from Stanford Deep solar\n",
        "url= \"http://web.stanford.edu/group/deepsolar/deepsolar_tract.csv\"\n",
        "data= pd.read_csv(url,encoding='cp1252')\n"
      ],
      "metadata": {
        "id": "iBw69rJV_edv",
        "outputId": "cd601b3a-7955-4d6b-efc6-c6554bce250d",
        "colab": {
          "base_uri": "https://localhost:8080/",
          "height": 204
        }
      },
      "execution_count": null,
      "outputs": [
        {
          "output_type": "error",
          "ename": "NameError",
          "evalue": "ignored",
          "traceback": [
            "\u001b[0;31m---------------------------------------------------------------------------\u001b[0m",
            "\u001b[0;31mNameError\u001b[0m                                 Traceback (most recent call last)",
            "\u001b[0;32m<ipython-input-1-4a4296319a72>\u001b[0m in \u001b[0;36m<module>\u001b[0;34m()\u001b[0m\n\u001b[1;32m      1\u001b[0m \u001b[0;31m#read data from Stanford Deep solar\u001b[0m\u001b[0;34m\u001b[0m\u001b[0;34m\u001b[0m\u001b[0;34m\u001b[0m\u001b[0m\n\u001b[1;32m      2\u001b[0m \u001b[0murl\u001b[0m\u001b[0;34m=\u001b[0m \u001b[0;34m\"http://web.stanford.edu/group/deepsolar/deepsolar_tract.csv\"\u001b[0m\u001b[0;34m\u001b[0m\u001b[0;34m\u001b[0m\u001b[0m\n\u001b[0;32m----> 3\u001b[0;31m \u001b[0mdata\u001b[0m\u001b[0;34m=\u001b[0m \u001b[0mpd\u001b[0m\u001b[0;34m.\u001b[0m\u001b[0mread_csv\u001b[0m\u001b[0;34m(\u001b[0m\u001b[0murl\u001b[0m\u001b[0;34m,\u001b[0m\u001b[0mencoding\u001b[0m\u001b[0;34m=\u001b[0m\u001b[0;34m'cp1252'\u001b[0m\u001b[0;34m)\u001b[0m\u001b[0;34m\u001b[0m\u001b[0;34m\u001b[0m\u001b[0m\n\u001b[0m",
            "\u001b[0;31mNameError\u001b[0m: name 'pd' is not defined"
          ]
        }
      ]
    },
    {
      "cell_type": "code",
      "source": [
        "data.head()"
      ],
      "metadata": {
        "colab": {
          "base_uri": "https://localhost:8080/",
          "height": 403
        },
        "id": "SbBzCA6dCx7I",
        "outputId": "4f853c98-9bcb-443b-83ec-e8bef4950fc5"
      },
      "execution_count": null,
      "outputs": [
        {
          "output_type": "execute_result",
          "data": {
            "text/plain": [
              "   Unnamed: 0  tile_count  solar_system_count  total_panel_area         fips  \\\n",
              "0           0         0.0                 0.0          0.000000  27145011200   \n",
              "1           1        25.0                21.0       1133.436461  27145011301   \n",
              "2           2         3.0                 3.0         64.505776  27145011302   \n",
              "3           3         0.0                 0.0          0.000000  27145011304   \n",
              "4           4         5.0                 5.0        164.583303  27145011400   \n",
              "\n",
              "   average_household_income          county  education_bachelor  \\\n",
              "0              70352.789869  Stearns County                 569   \n",
              "1              61727.085202  Stearns County                 674   \n",
              "2              71496.886583  Stearns County                 854   \n",
              "3              86840.152755  Stearns County                 640   \n",
              "4              89135.315597  Stearns County                 654   \n",
              "\n",
              "   education_college  education_doctoral  ...  incentive_count_nonresidential  \\\n",
              "0               1690                  13  ...                              39   \n",
              "1               1434                 108  ...                              39   \n",
              "2               1459                  31  ...                              39   \n",
              "3               1116                  68  ...                              39   \n",
              "4               1314                  15  ...                              39   \n",
              "\n",
              "   incentive_residential_state_level  incentive_nonresidential_state_level  \\\n",
              "0                                 11                                    13   \n",
              "1                                 11                                    13   \n",
              "2                                 11                                    13   \n",
              "3                                 11                                    13   \n",
              "4                                 11                                    13   \n",
              "\n",
              "   net_metering  feedin_tariff  cooperate_tax  property_tax  sales_tax  \\\n",
              "0            34              0              0            25         12   \n",
              "1            34              0              0            25         12   \n",
              "2            34              0              0            25         12   \n",
              "3            34              0              0            25         12   \n",
              "4            34              0              0            25         12   \n",
              "\n",
              "   rebate  avg_electricity_retail_rate  \n",
              "0       0                         9.46  \n",
              "1       0                         9.46  \n",
              "2       0                         9.46  \n",
              "3       0                         9.46  \n",
              "4       0                         9.46  \n",
              "\n",
              "[5 rows x 169 columns]"
            ],
            "text/html": [
              "\n",
              "  <div id=\"df-6e235165-7fb1-4229-859b-72fcae1ae8a0\">\n",
              "    <div class=\"colab-df-container\">\n",
              "      <div>\n",
              "<style scoped>\n",
              "    .dataframe tbody tr th:only-of-type {\n",
              "        vertical-align: middle;\n",
              "    }\n",
              "\n",
              "    .dataframe tbody tr th {\n",
              "        vertical-align: top;\n",
              "    }\n",
              "\n",
              "    .dataframe thead th {\n",
              "        text-align: right;\n",
              "    }\n",
              "</style>\n",
              "<table border=\"1\" class=\"dataframe\">\n",
              "  <thead>\n",
              "    <tr style=\"text-align: right;\">\n",
              "      <th></th>\n",
              "      <th>Unnamed: 0</th>\n",
              "      <th>tile_count</th>\n",
              "      <th>solar_system_count</th>\n",
              "      <th>total_panel_area</th>\n",
              "      <th>fips</th>\n",
              "      <th>average_household_income</th>\n",
              "      <th>county</th>\n",
              "      <th>education_bachelor</th>\n",
              "      <th>education_college</th>\n",
              "      <th>education_doctoral</th>\n",
              "      <th>...</th>\n",
              "      <th>incentive_count_nonresidential</th>\n",
              "      <th>incentive_residential_state_level</th>\n",
              "      <th>incentive_nonresidential_state_level</th>\n",
              "      <th>net_metering</th>\n",
              "      <th>feedin_tariff</th>\n",
              "      <th>cooperate_tax</th>\n",
              "      <th>property_tax</th>\n",
              "      <th>sales_tax</th>\n",
              "      <th>rebate</th>\n",
              "      <th>avg_electricity_retail_rate</th>\n",
              "    </tr>\n",
              "  </thead>\n",
              "  <tbody>\n",
              "    <tr>\n",
              "      <th>0</th>\n",
              "      <td>0</td>\n",
              "      <td>0.0</td>\n",
              "      <td>0.0</td>\n",
              "      <td>0.000000</td>\n",
              "      <td>27145011200</td>\n",
              "      <td>70352.789869</td>\n",
              "      <td>Stearns County</td>\n",
              "      <td>569</td>\n",
              "      <td>1690</td>\n",
              "      <td>13</td>\n",
              "      <td>...</td>\n",
              "      <td>39</td>\n",
              "      <td>11</td>\n",
              "      <td>13</td>\n",
              "      <td>34</td>\n",
              "      <td>0</td>\n",
              "      <td>0</td>\n",
              "      <td>25</td>\n",
              "      <td>12</td>\n",
              "      <td>0</td>\n",
              "      <td>9.46</td>\n",
              "    </tr>\n",
              "    <tr>\n",
              "      <th>1</th>\n",
              "      <td>1</td>\n",
              "      <td>25.0</td>\n",
              "      <td>21.0</td>\n",
              "      <td>1133.436461</td>\n",
              "      <td>27145011301</td>\n",
              "      <td>61727.085202</td>\n",
              "      <td>Stearns County</td>\n",
              "      <td>674</td>\n",
              "      <td>1434</td>\n",
              "      <td>108</td>\n",
              "      <td>...</td>\n",
              "      <td>39</td>\n",
              "      <td>11</td>\n",
              "      <td>13</td>\n",
              "      <td>34</td>\n",
              "      <td>0</td>\n",
              "      <td>0</td>\n",
              "      <td>25</td>\n",
              "      <td>12</td>\n",
              "      <td>0</td>\n",
              "      <td>9.46</td>\n",
              "    </tr>\n",
              "    <tr>\n",
              "      <th>2</th>\n",
              "      <td>2</td>\n",
              "      <td>3.0</td>\n",
              "      <td>3.0</td>\n",
              "      <td>64.505776</td>\n",
              "      <td>27145011302</td>\n",
              "      <td>71496.886583</td>\n",
              "      <td>Stearns County</td>\n",
              "      <td>854</td>\n",
              "      <td>1459</td>\n",
              "      <td>31</td>\n",
              "      <td>...</td>\n",
              "      <td>39</td>\n",
              "      <td>11</td>\n",
              "      <td>13</td>\n",
              "      <td>34</td>\n",
              "      <td>0</td>\n",
              "      <td>0</td>\n",
              "      <td>25</td>\n",
              "      <td>12</td>\n",
              "      <td>0</td>\n",
              "      <td>9.46</td>\n",
              "    </tr>\n",
              "    <tr>\n",
              "      <th>3</th>\n",
              "      <td>3</td>\n",
              "      <td>0.0</td>\n",
              "      <td>0.0</td>\n",
              "      <td>0.000000</td>\n",
              "      <td>27145011304</td>\n",
              "      <td>86840.152755</td>\n",
              "      <td>Stearns County</td>\n",
              "      <td>640</td>\n",
              "      <td>1116</td>\n",
              "      <td>68</td>\n",
              "      <td>...</td>\n",
              "      <td>39</td>\n",
              "      <td>11</td>\n",
              "      <td>13</td>\n",
              "      <td>34</td>\n",
              "      <td>0</td>\n",
              "      <td>0</td>\n",
              "      <td>25</td>\n",
              "      <td>12</td>\n",
              "      <td>0</td>\n",
              "      <td>9.46</td>\n",
              "    </tr>\n",
              "    <tr>\n",
              "      <th>4</th>\n",
              "      <td>4</td>\n",
              "      <td>5.0</td>\n",
              "      <td>5.0</td>\n",
              "      <td>164.583303</td>\n",
              "      <td>27145011400</td>\n",
              "      <td>89135.315597</td>\n",
              "      <td>Stearns County</td>\n",
              "      <td>654</td>\n",
              "      <td>1314</td>\n",
              "      <td>15</td>\n",
              "      <td>...</td>\n",
              "      <td>39</td>\n",
              "      <td>11</td>\n",
              "      <td>13</td>\n",
              "      <td>34</td>\n",
              "      <td>0</td>\n",
              "      <td>0</td>\n",
              "      <td>25</td>\n",
              "      <td>12</td>\n",
              "      <td>0</td>\n",
              "      <td>9.46</td>\n",
              "    </tr>\n",
              "  </tbody>\n",
              "</table>\n",
              "<p>5 rows × 169 columns</p>\n",
              "</div>\n",
              "      <button class=\"colab-df-convert\" onclick=\"convertToInteractive('df-6e235165-7fb1-4229-859b-72fcae1ae8a0')\"\n",
              "              title=\"Convert this dataframe to an interactive table.\"\n",
              "              style=\"display:none;\">\n",
              "        \n",
              "  <svg xmlns=\"http://www.w3.org/2000/svg\" height=\"24px\"viewBox=\"0 0 24 24\"\n",
              "       width=\"24px\">\n",
              "    <path d=\"M0 0h24v24H0V0z\" fill=\"none\"/>\n",
              "    <path d=\"M18.56 5.44l.94 2.06.94-2.06 2.06-.94-2.06-.94-.94-2.06-.94 2.06-2.06.94zm-11 1L8.5 8.5l.94-2.06 2.06-.94-2.06-.94L8.5 2.5l-.94 2.06-2.06.94zm10 10l.94 2.06.94-2.06 2.06-.94-2.06-.94-.94-2.06-.94 2.06-2.06.94z\"/><path d=\"M17.41 7.96l-1.37-1.37c-.4-.4-.92-.59-1.43-.59-.52 0-1.04.2-1.43.59L10.3 9.45l-7.72 7.72c-.78.78-.78 2.05 0 2.83L4 21.41c.39.39.9.59 1.41.59.51 0 1.02-.2 1.41-.59l7.78-7.78 2.81-2.81c.8-.78.8-2.07 0-2.86zM5.41 20L4 18.59l7.72-7.72 1.47 1.35L5.41 20z\"/>\n",
              "  </svg>\n",
              "      </button>\n",
              "      \n",
              "  <style>\n",
              "    .colab-df-container {\n",
              "      display:flex;\n",
              "      flex-wrap:wrap;\n",
              "      gap: 12px;\n",
              "    }\n",
              "\n",
              "    .colab-df-convert {\n",
              "      background-color: #E8F0FE;\n",
              "      border: none;\n",
              "      border-radius: 50%;\n",
              "      cursor: pointer;\n",
              "      display: none;\n",
              "      fill: #1967D2;\n",
              "      height: 32px;\n",
              "      padding: 0 0 0 0;\n",
              "      width: 32px;\n",
              "    }\n",
              "\n",
              "    .colab-df-convert:hover {\n",
              "      background-color: #E2EBFA;\n",
              "      box-shadow: 0px 1px 2px rgba(60, 64, 67, 0.3), 0px 1px 3px 1px rgba(60, 64, 67, 0.15);\n",
              "      fill: #174EA6;\n",
              "    }\n",
              "\n",
              "    [theme=dark] .colab-df-convert {\n",
              "      background-color: #3B4455;\n",
              "      fill: #D2E3FC;\n",
              "    }\n",
              "\n",
              "    [theme=dark] .colab-df-convert:hover {\n",
              "      background-color: #434B5C;\n",
              "      box-shadow: 0px 1px 3px 1px rgba(0, 0, 0, 0.15);\n",
              "      filter: drop-shadow(0px 1px 2px rgba(0, 0, 0, 0.3));\n",
              "      fill: #FFFFFF;\n",
              "    }\n",
              "  </style>\n",
              "\n",
              "      <script>\n",
              "        const buttonEl =\n",
              "          document.querySelector('#df-6e235165-7fb1-4229-859b-72fcae1ae8a0 button.colab-df-convert');\n",
              "        buttonEl.style.display =\n",
              "          google.colab.kernel.accessAllowed ? 'block' : 'none';\n",
              "\n",
              "        async function convertToInteractive(key) {\n",
              "          const element = document.querySelector('#df-6e235165-7fb1-4229-859b-72fcae1ae8a0');\n",
              "          const dataTable =\n",
              "            await google.colab.kernel.invokeFunction('convertToInteractive',\n",
              "                                                     [key], {});\n",
              "          if (!dataTable) return;\n",
              "\n",
              "          const docLinkHtml = 'Like what you see? Visit the ' +\n",
              "            '<a target=\"_blank\" href=https://colab.research.google.com/notebooks/data_table.ipynb>data table notebook</a>'\n",
              "            + ' to learn more about interactive tables.';\n",
              "          element.innerHTML = '';\n",
              "          dataTable['output_type'] = 'display_data';\n",
              "          await google.colab.output.renderOutput(dataTable, element);\n",
              "          const docLink = document.createElement('div');\n",
              "          docLink.innerHTML = docLinkHtml;\n",
              "          element.appendChild(docLink);\n",
              "        }\n",
              "      </script>\n",
              "    </div>\n",
              "  </div>\n",
              "  "
            ]
          },
          "metadata": {},
          "execution_count": 4
        }
      ]
    },
    {
      "cell_type": "code",
      "source": [
        "#Select relevant columns\n",
        "cols = ['tile_count_residential','solar_system_count_residential','total_panel_area_residential','lat','lon','daily_solar_radiation', 'rebate', 'avg_electricity_retail_rate']\n",
        "data = data[cols]\n",
        "\n",
        "print(data.shape)"
      ],
      "metadata": {
        "colab": {
          "base_uri": "https://localhost:8080/"
        },
        "id": "XDWPTVtCC3y6",
        "outputId": "8cb155ce-dac0-49a6-a213-cd64123dcba2"
      },
      "execution_count": null,
      "outputs": [
        {
          "output_type": "stream",
          "name": "stdout",
          "text": [
            "(72537, 8)\n"
          ]
        }
      ]
    },
    {
      "cell_type": "code",
      "source": [
        "#Remove NAs from lat and long\n",
        "data['lat'].replace('',np.nan, inplace=True)\n",
        "data['lon'].replace('',np.nan, inplace=True)\n",
        "data.head\n"
      ],
      "metadata": {
        "colab": {
          "base_uri": "https://localhost:8080/"
        },
        "id": "b8NJSKcaFQDR",
        "outputId": "dcfed727-ac8a-4cbc-ce59-ea2e9b02795d"
      },
      "execution_count": null,
      "outputs": [
        {
          "output_type": "execute_result",
          "data": {
            "text/plain": [
              "<bound method NDFrame.head of        tile_count_residential  solar_system_count_residential  \\\n",
              "0                         0.0                             0.0   \n",
              "1                        17.0                            15.0   \n",
              "2                         3.0                             3.0   \n",
              "3                         0.0                             0.0   \n",
              "4                         4.0                             4.0   \n",
              "...                       ...                             ...   \n",
              "72532                     1.0                             1.0   \n",
              "72533                     0.0                             0.0   \n",
              "72534                     1.0                             1.0   \n",
              "72535                     0.0                             0.0   \n",
              "72536                     0.0                             0.0   \n",
              "\n",
              "       total_panel_area_residential     lat      lon  daily_solar_radiation  \\\n",
              "0                          0.000000  45.369  -94.282                   3.76   \n",
              "1                        297.274652     NaN      NaN                    NaN   \n",
              "2                         64.505776  45.460  -94.425                   3.76   \n",
              "3                          0.000000  45.507  -94.388                   3.76   \n",
              "4                         61.050581  45.457  -94.182                   3.76   \n",
              "...                             ...     ...      ...                    ...   \n",
              "72532                     40.277124  39.948 -105.906                   4.54   \n",
              "72533                      0.000000  33.935  -97.087                   4.68   \n",
              "72534                     21.902255  33.914  -97.098                   4.68   \n",
              "72535                      0.000000  33.945  -97.402                   4.68   \n",
              "72536                      0.000000  30.899  -99.800                   4.91   \n",
              "\n",
              "       rebate  avg_electricity_retail_rate  \n",
              "0           0                         9.46  \n",
              "1           0                         9.46  \n",
              "2           0                         9.46  \n",
              "3           0                         9.46  \n",
              "4           0                         9.46  \n",
              "...       ...                          ...  \n",
              "72532       0                         9.82  \n",
              "72533       0                         7.86  \n",
              "72534       0                         7.86  \n",
              "72535       0                         7.86  \n",
              "72536       0                         8.66  \n",
              "\n",
              "[72537 rows x 8 columns]>"
            ]
          },
          "metadata": {},
          "execution_count": 6
        }
      ]
    },
    {
      "cell_type": "code",
      "source": [
        "data.dropna(subset =['lat','lon'], inplace= True)\n",
        "data.head\n"
      ],
      "metadata": {
        "colab": {
          "base_uri": "https://localhost:8080/"
        },
        "id": "1hhEiKpcF5zk",
        "outputId": "77fab16d-037f-4a0a-caf3-80bba10769d4"
      },
      "execution_count": null,
      "outputs": [
        {
          "output_type": "execute_result",
          "data": {
            "text/plain": [
              "<bound method NDFrame.head of        tile_count_residential  solar_system_count_residential  \\\n",
              "0                         0.0                             0.0   \n",
              "2                         3.0                             3.0   \n",
              "3                         0.0                             0.0   \n",
              "4                         4.0                             4.0   \n",
              "5                         0.0                             0.0   \n",
              "...                       ...                             ...   \n",
              "72532                     1.0                             1.0   \n",
              "72533                     0.0                             0.0   \n",
              "72534                     1.0                             1.0   \n",
              "72535                     0.0                             0.0   \n",
              "72536                     0.0                             0.0   \n",
              "\n",
              "       total_panel_area_residential     lat      lon  daily_solar_radiation  \\\n",
              "0                          0.000000  45.369  -94.282                   3.76   \n",
              "2                         64.505776  45.460  -94.425                   3.76   \n",
              "3                          0.000000  45.507  -94.388                   3.76   \n",
              "4                         61.050581  45.457  -94.182                   3.76   \n",
              "5                          0.000000  45.680  -95.010                   3.76   \n",
              "...                             ...     ...      ...                    ...   \n",
              "72532                     40.277124  39.948 -105.906                   4.54   \n",
              "72533                      0.000000  33.935  -97.087                   4.68   \n",
              "72534                     21.902255  33.914  -97.098                   4.68   \n",
              "72535                      0.000000  33.945  -97.402                   4.68   \n",
              "72536                      0.000000  30.899  -99.800                   4.91   \n",
              "\n",
              "       rebate  avg_electricity_retail_rate  \n",
              "0           0                         9.46  \n",
              "2           0                         9.46  \n",
              "3           0                         9.46  \n",
              "4           0                         9.46  \n",
              "5           0                         9.46  \n",
              "...       ...                          ...  \n",
              "72532       0                         9.82  \n",
              "72533       0                         7.86  \n",
              "72534       0                         7.86  \n",
              "72535       0                         7.86  \n",
              "72536       0                         8.66  \n",
              "\n",
              "[66735 rows x 8 columns]>"
            ]
          },
          "metadata": {},
          "execution_count": 7
        }
      ]
    },
    {
      "cell_type": "code",
      "source": [
        "#add a row identifier\n",
        "data['row_num'] = np.arange(len(data))\n",
        "data.head"
      ],
      "metadata": {
        "colab": {
          "base_uri": "https://localhost:8080/"
        },
        "id": "zHmSIPLsnNj0",
        "outputId": "5f6e115d-4b3d-4f98-8266-accf1161799f"
      },
      "execution_count": null,
      "outputs": [
        {
          "output_type": "execute_result",
          "data": {
            "text/plain": [
              "<bound method NDFrame.head of        tile_count_residential  solar_system_count_residential  \\\n",
              "0                         0.0                             0.0   \n",
              "2                         3.0                             3.0   \n",
              "3                         0.0                             0.0   \n",
              "4                         4.0                             4.0   \n",
              "5                         0.0                             0.0   \n",
              "...                       ...                             ...   \n",
              "72532                     1.0                             1.0   \n",
              "72533                     0.0                             0.0   \n",
              "72534                     1.0                             1.0   \n",
              "72535                     0.0                             0.0   \n",
              "72536                     0.0                             0.0   \n",
              "\n",
              "       total_panel_area_residential     lat      lon  daily_solar_radiation  \\\n",
              "0                          0.000000  45.369  -94.282                   3.76   \n",
              "2                         64.505776  45.460  -94.425                   3.76   \n",
              "3                          0.000000  45.507  -94.388                   3.76   \n",
              "4                         61.050581  45.457  -94.182                   3.76   \n",
              "5                          0.000000  45.680  -95.010                   3.76   \n",
              "...                             ...     ...      ...                    ...   \n",
              "72532                     40.277124  39.948 -105.906                   4.54   \n",
              "72533                      0.000000  33.935  -97.087                   4.68   \n",
              "72534                     21.902255  33.914  -97.098                   4.68   \n",
              "72535                      0.000000  33.945  -97.402                   4.68   \n",
              "72536                      0.000000  30.899  -99.800                   4.91   \n",
              "\n",
              "       rebate  avg_electricity_retail_rate  row_num  \n",
              "0           0                         9.46        0  \n",
              "2           0                         9.46        1  \n",
              "3           0                         9.46        2  \n",
              "4           0                         9.46        3  \n",
              "5           0                         9.46        4  \n",
              "...       ...                          ...      ...  \n",
              "72532       0                         9.82    66730  \n",
              "72533       0                         7.86    66731  \n",
              "72534       0                         7.86    66732  \n",
              "72535       0                         7.86    66733  \n",
              "72536       0                         8.66    66734  \n",
              "\n",
              "[66735 rows x 9 columns]>"
            ]
          },
          "metadata": {},
          "execution_count": 8
        }
      ]
    },
    {
      "cell_type": "code",
      "source": [
        "#add output estimate column KwH\n",
        "#total panel area in sq meters * 1000 * efficiency (15%-18%) *no of sun hours /1000 \n",
        "data['average_daily_output_estimate'] =  ((data['total_panel_area_residential']*1000) * 0.15 *data['daily_solar_radiation'])/1000\n",
        "data.head"
      ],
      "metadata": {
        "id": "-LKI6PCB49-s",
        "colab": {
          "base_uri": "https://localhost:8080/"
        },
        "outputId": "0e178c8e-aca8-46e5-8f37-7331701bcb2e"
      },
      "execution_count": null,
      "outputs": [
        {
          "output_type": "execute_result",
          "data": {
            "text/plain": [
              "<bound method NDFrame.head of        tile_count_residential  solar_system_count_residential  \\\n",
              "0                         0.0                             0.0   \n",
              "2                         3.0                             3.0   \n",
              "3                         0.0                             0.0   \n",
              "4                         4.0                             4.0   \n",
              "5                         0.0                             0.0   \n",
              "...                       ...                             ...   \n",
              "72532                     1.0                             1.0   \n",
              "72533                     0.0                             0.0   \n",
              "72534                     1.0                             1.0   \n",
              "72535                     0.0                             0.0   \n",
              "72536                     0.0                             0.0   \n",
              "\n",
              "       total_panel_area_residential     lat      lon  daily_solar_radiation  \\\n",
              "0                          0.000000  45.369  -94.282                   3.76   \n",
              "2                         64.505776  45.460  -94.425                   3.76   \n",
              "3                          0.000000  45.507  -94.388                   3.76   \n",
              "4                         61.050581  45.457  -94.182                   3.76   \n",
              "5                          0.000000  45.680  -95.010                   3.76   \n",
              "...                             ...     ...      ...                    ...   \n",
              "72532                     40.277124  39.948 -105.906                   4.54   \n",
              "72533                      0.000000  33.935  -97.087                   4.68   \n",
              "72534                     21.902255  33.914  -97.098                   4.68   \n",
              "72535                      0.000000  33.945  -97.402                   4.68   \n",
              "72536                      0.000000  30.899  -99.800                   4.91   \n",
              "\n",
              "       rebate  avg_electricity_retail_rate  row_num  \\\n",
              "0           0                         9.46        0   \n",
              "2           0                         9.46        1   \n",
              "3           0                         9.46        2   \n",
              "4           0                         9.46        3   \n",
              "5           0                         9.46        4   \n",
              "...       ...                          ...      ...   \n",
              "72532       0                         9.82    66730   \n",
              "72533       0                         7.86    66731   \n",
              "72534       0                         7.86    66732   \n",
              "72535       0                         7.86    66733   \n",
              "72536       0                         8.66    66734   \n",
              "\n",
              "       average_daily_output_estimate  \n",
              "0                           0.000000  \n",
              "2                          36.381258  \n",
              "3                           0.000000  \n",
              "4                          34.432527  \n",
              "5                           0.000000  \n",
              "...                              ...  \n",
              "72532                      27.428721  \n",
              "72533                       0.000000  \n",
              "72534                      15.375383  \n",
              "72535                       0.000000  \n",
              "72536                       0.000000  \n",
              "\n",
              "[66735 rows x 10 columns]>"
            ]
          },
          "metadata": {},
          "execution_count": 12
        }
      ]
    },
    {
      "cell_type": "code",
      "source": [
        "#export edited data to csv to transfer into mapbox\n",
        "data.to_csv('deep_solar2.csv', encoding='utf-8')"
      ],
      "metadata": {
        "id": "kVI3qDs4IlNs"
      },
      "execution_count": null,
      "outputs": []
    }
  ]
}